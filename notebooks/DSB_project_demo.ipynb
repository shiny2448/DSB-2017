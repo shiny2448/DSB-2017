{
 "cells": [
  {
   "cell_type": "code",
   "execution_count": 74,
   "metadata": {
    "collapsed": false
   },
   "outputs": [],
   "source": [
    "import dicom\n",
    "import os.path\n",
    "from glob import glob\n",
    "import numpy as np\n",
    "import matplotlib.pyplot as plt\n",
    "import pandas as pd\n",
    "import csv\n",
    "import math\n",
    "MAIN_FOLDER = \"sample_images\"\n",
    "#MAIN_FOLDER = \"stage1/stage1\"\n",
    "SCALE_CONST = 16\n",
    "hyper_param = 0.001\n",
    "patient_id_list = [name for name in os.listdir(MAIN_FOLDER)]\n",
    "\n",
    "def compute_score(labels,pred):\n",
    "\terror_count = 0\n",
    "\tfor tup in zip(pred,labels):\n",
    "\t\tif tup[0]!=tup[1]:\n",
    "\t\t\terror_count+=1\n",
    "\treturn float(labels.shape[0]-error_count)/float(labels.shape[0])\n",
    "\n",
    "def LDA_predict(cov,x_list,pi_list,mean_list):\n",
    "    inv_cov = np.linalg.pinv(cov+hyper_param*np.identity(cov.shape[0]))\n",
    "    log_det = sum([math.log(eig+hyper_param) for eig in np.linalg.eigvals(cov)])\n",
    "    pred = []\n",
    "    for x in x_list:\n",
    "        estimated_g = []\n",
    "        for i in range(len(mean_list)):\n",
    "            estimated_g.append(-0.5*np.dot(np.dot((x-mean_list[i]).T,inv_cov),(x-mean_list[i]))+math.log(pi_list[i])-0.5*log_det)\n",
    "            #estimated_g.append(np.dot(np.dot(x.T,inv_cov),mean_list[i])-0.5*np.dot(np.dot(mean_list[i].T,inv_cov),mean_list[i])+math.log(pi_list[i]))\n",
    "        pred.append(np.argmax(estimated_g))\n",
    "    return pred\n",
    "\n",
    "def QDA_predict(cov_list,x_list,pi_list,mean_list):\n",
    "    pred = []\n",
    "    inv_cov_list = [np.linalg.pinv(cov_list[i]+hyper_param*np.identity(cov_list[i].shape[0])) for i in range(len(mean_list))]\n",
    "    eigvals = np.linalg.eigvals(cov_list[i])\n",
    "    log_det_list = [sum([math.log(eig+hyper_param) for eig in eigvals]) for i in range(len(mean_list))]\n",
    "    \n",
    "    for x in x_list:\n",
    "        estimated_g = []\n",
    "        for i in range(len(mean_list)):\n",
    "            inv_cov = inv_cov_list[i]\n",
    "            estimated_g.append(-0.5*np.dot(np.dot((x-mean_list[i]).T,inv_cov),(x-mean_list[i]))+math.log(pi_list[i])-0.5*(log_det_list[i]))\n",
    "        pred.append(np.argmax(estimated_g))\n",
    "    return pred\n",
    "#print patient_id_list\n",
    "#df_labels = pd.read_csv(\"stage1_labels.csv\")\n",
    "#df_labels = df_labels.drop('index')\n",
    "#print df_labels[(df_labels['id']=='0015ceb851d7251b8f399e39779d1e7d')].loc[:,'cancer']\n",
    "label_list = {}\n",
    "with open(\"stage1_labels.csv\") as csvfile:\n",
    "    reader = csv.reader(csvfile, delimiter=',')\n",
    "    for row in reader:\n",
    "        if row[1]=='0' or row[1]=='1':\n",
    "            label_list[row[0]]=int(row[1])\n",
    "test_set = []\n",
    "with open(\"stage1_sample_submission.csv\") as csvfile:\n",
    "    reader = csv.reader(csvfile,delimiter=',')\n",
    "    for row in reader:\n",
    "        if row[0]!='id':\n",
    "            test_set.append(row[0])"
   ]
  },
  {
   "cell_type": "code",
   "execution_count": 75,
   "metadata": {
    "collapsed": false
   },
   "outputs": [],
   "source": [
    "mid_images = []\n",
    "for patient_id in patient_id_list:\n",
    "    if patient_id not in test_set:\n",
    "        files = [f for f in os.listdir(MAIN_FOLDER+\"/\"+patient_id) if os.path.isfile(os.path.join(MAIN_FOLDER+\"/\"+patient_id, f))]\n",
    "        num_files = len(files)\n",
    "        image = dicom.read_file(MAIN_FOLDER+\"/\"+patient_id+\"/\"+files[num_files//2])\n",
    "        image_features = [np.mean([image.pixel_array[SCALE_CONST*i+i2][SCALE_CONST*j+j2] for j2 in range(SCALE_CONST) for i2 in range(SCALE_CONST)]) for j in range(image.Columns/SCALE_CONST) for i in range(image.Rows/SCALE_CONST)]\n",
    "        #mid_images[patient_id] = image_features\n",
    "        image_features.append(label_list[patient_id]) #last column is of labels\n",
    "        mid_images.append(image_features)"
   ]
  },
  {
   "cell_type": "code",
   "execution_count": 77,
   "metadata": {
    "collapsed": false
   },
   "outputs": [
    {
     "name": "stderr",
     "output_type": "stream",
     "text": [
      "C:\\Users\\Yong-Chan\\Anaconda2_62bit\\lib\\site-packages\\ipykernel\\__main__.py:24: ComplexWarning: Casting complex values to real discards the imaginary part\n",
      "C:\\Users\\Yong-Chan\\Anaconda2_62bit\\lib\\site-packages\\ipykernel\\__main__.py:38: ComplexWarning: Casting complex values to real discards the imaginary part\n"
     ]
    },
    {
     "data": {
      "image/png": "[encoded data removed]",
      "text/plain": [
       "<matplotlib.figure.Figure at 0xb5ef780>"
      ]
     },
     "metadata": {},
     "output_type": "display_data"
    },
    {
     "name": "stdout",
     "output_type": "stream",
     "text": [
      "LDA errors: [0.33333333333333337]\n",
      "QDA_errors: [0.0]\n"
     ]
    }
   ],
   "source": [
    "validation_set = np.array(mid_images[:len(mid_images)//5])\n",
    "training_set = np.array(mid_images[len(mid_images)//5:])\n",
    "nums_samples = [len(mid_images)]\n",
    "LDA_errors = []\n",
    "QDA_errors = []\n",
    "classes = []\n",
    "for label in training_set[:,training_set.shape[1]-1]:\n",
    "\tif label not in classes:\n",
    "\t\tclasses.append(label)\n",
    "num_classes = len(classes)\n",
    "#nums_samples = [100,200,500,1000,len(mid_images)]\n",
    "for num_samples in nums_samples:\n",
    "    v_set = validation_set[:,:validation_set.shape[1]-1]\n",
    "    v_label = validation_set[:,validation_set.shape[1]-1]\n",
    "    t_set = training_set[:num_samples,:training_set.shape[1]-1]\n",
    "    t_label = training_set[:num_samples,training_set.shape[1]-1]\n",
    "    classes = [[] for _ in range(num_classes)]\n",
    "    classes_means = []\n",
    "    classes_covs = []\n",
    "    for i in range(len(t_label)):\n",
    "        classes[int(t_label[i])].append(t_set[i])\n",
    "    for class_label in classes:\n",
    "        class_label = np.array(class_label)\n",
    "        classes_means.append(np.mean(class_label,axis=0))\n",
    "        classes_covs.append(np.cov(class_label.T))\n",
    "    mean_cov = np.array([[0 for _ in range(t_set.shape[1])] for _ in range(t_set.shape[1])])\n",
    "    for cov in classes_covs:\n",
    "        mean_cov = mean_cov+cov\n",
    "    mean_cov = mean_cov/float(num_classes)\n",
    "    pi_list = [float(len(class_label))/float(t_set.shape[0]) for class_label in classes]\n",
    "    LDA_pred = LDA_predict(mean_cov,v_set,pi_list,classes_means)\n",
    "    QDA_pred = QDA_predict(classes_covs,v_set,pi_list,classes_means)\n",
    "    LDA_score = compute_score(v_label,LDA_pred)\n",
    "    QDA_score = compute_score(v_label,QDA_pred)\n",
    "    LDA_errors.append(1.0-LDA_score)\n",
    "    QDA_errors.append(1.0-QDA_score)\n",
    "plt.plot(nums_samples,LDA_errors,'r-',label='LDA error')\n",
    "plt.plot(nums_samples,QDA_errors,'b-',label='QDA error')\n",
    "plt.title('Num Samples vs. Error Rate')\n",
    "plt.xlabel('Number of Samples')\n",
    "plt.ylabel('Error Rate')\n",
    "plt.show()\n",
    "print \"LDA errors:\",LDA_errors\n",
    "print \"QDA_errors:\",QDA_errors"
   ]
  },
  {
   "cell_type": "code",
   "execution_count": null,
   "metadata": {
    "collapsed": true
   },
   "outputs": [],
   "source": []
  }
 ],
 "metadata": {
  "kernelspec": {
   "display_name": "Python [conda root]",
   "language": "python",
   "name": "conda-root-py"
  },
  "language_info": {
   "codemirror_mode": {
    "name": "ipython",
    "version": 2
   },
   "file_extension": ".py",
   "mimetype": "text/x-python",
   "name": "python",
   "nbconvert_exporter": "python",
   "pygments_lexer": "ipython2",
   "version": "2.7.12"
  }
 },
 "nbformat": 4,
 "nbformat_minor": 1
}
